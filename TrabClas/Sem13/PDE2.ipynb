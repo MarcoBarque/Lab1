{
 "cells": [
  {
   "cell_type": "markdown",
   "metadata": {},
   "source": [
    "# Ecuaciones Diferenciales Parciales (PDEs)"
   ]
  },
  {
   "cell_type": "markdown",
   "metadata": {},
   "source": [
    "## Ecuaciones diferenciales parciales parabólicas\n",
    "\n",
    "Recordemos la condición para una ecuación diferencial parabólica con dos variables independientes\n",
    "$$ \n",
    "\\alpha\\frac{\\partial^2 \\phi}{\\partial x^2} + \\beta\\frac{\\partial^2 \\phi}{\\partial x\\partial y} + \\gamma\\frac{\\partial^2 \\phi}{\\partial y^2} + \\delta \\frac{\\partial\\phi}{\\partial x} + \\varepsilon\\frac{\\partial\\phi}{\\partial y} = f.\n",
    "$$\n",
    "La condición para que esta PDE sea parabólica es que \n",
    "$$\n",
    "\\Delta = 0\n",
    "$$\n",
    "con $\\Delta = \\beta^2 - 4\\alpha\\gamma$.\n",
    "\n",
    "Un caso particular de PDE parabólica es la ecuación de difusión, la cual vamos a estudiar en el contexto de la ecuación de difusión de calor. En una dimension, la ecuación toma la forma\n",
    "$$\n",
    "\\frac{\\partial T}{\\partial t} = \\kappa\\frac{\\partial^2 T}{\\partial x^2},\n",
    "$$\n",
    "donde $\\kappa$ se conoce como la *difusividad térmica*. La ecuación dicta la dinámica de un perfil de temperatura en sistemas que están inicialmente fuera de equilibrio térmico y como se alcanza el estado de equilibrio en caso de que este estado exista.\n",
    "\n",
    "En este caso, indentificamos\n",
    "$$\n",
    "x\\to x,\\quad y\\to t,\\quad \\alpha \\to \\kappa,\\quad \\varepsilon \\to - 1,\\quad \\beta, \\gamma, \\delta, f \\to 0 \\quad\\Rightarrow\\quad \\beta^2 - 4\\alpha\\gamma = 0,\n",
    "$$\n",
    "de manera tal que la ecuación es en efecto parabólica.\n",
    "\n",
    "Sin embargo, en este caso, es importante recalcar que la ecuación es **dinámica**. La dependencia temporal implica que ahora consideramos un **problema de condición inicial**, en el cual tenemos una condición inicial y deseamos predecir el comportamiento de una función conforme pasa el tiempo.\n",
    "\n",
    "* La ecuación diferencial para el campo escalar $T(x, t)$, en este caso particular, depende de dos variables $x$ y $t$. Según los métodos de discretización que aprendimos en la lección anterior con respecto a ecuaciones elípticas, podríamos intentar crear una grilla espacio-temporal en la cual tenemos un espacio de dos dimensiones con cada punto correspondiendo a un punto de espacio y de tiempo\n",
    "* Sim embargo, para el caso de la variable temporal, **no tenemos una restricción de frontera**. "
   ]
  },
  {
   "cell_type": "markdown",
   "metadata": {},
   "source": [
    "## Discretización\n",
    "\n",
    "Ahora tenemos que considerar dos condiciones:\n",
    "\n",
    "* Condiciones de frontera:\n",
    "$$T(x=0, t) = T_0, \\quad T(x=L, t) = T_L.$$\n",
    "\n",
    "* Condiciones iniciales:\n",
    "$$\n",
    "T(x, t=0) = T_0 +  (T_L - T_0)\\left(\\frac{f(x) - f(0)}{f(L) - f(0)}\\right)\n",
    "$$"
   ]
  },
  {
   "cell_type": "markdown",
   "metadata": {},
   "source": [
    "## El método FTCS explícito (*forward time centred space*, tiempo al frente espacio al medio)\n",
    "\n",
    "Tomamos los siguentes pasos:\n",
    "\n",
    "* Paso 1: Discretización en espacio:\n",
    "$\\displaystyle x_m = \\frac{m}{M}L = am, \\quad m=0,\\dots,M, \\quad a = \\frac{L}M$,\n",
    "\n",
    "$T_m(t) = \\left[T_0(t), \\dots{}, T_{M}(t)\\right]$\n",
    "\n",
    "$\\displaystyle \\left.\\frac{\\partial^2 T}{\\partial x^2}\\right|_{x=x_m, t} \\approx \\frac{T_{m+1} - 2 T_m + T_{m-1}}{a^2}\\quad$ (espacio centrado \"centred space\", CS)\n",
    "\n",
    "* Paso 2: Discretización temporal:\n",
    "$\\displaystyle \\frac{d T_m}{d t} \\approx \\kappa\\frac{T_{m+1} - 2 T_m + T_{m-1}}{a^2},\\quad m = 1 \\dots{}, M-1$\n",
    "\n",
    "Sea $t_n = nh$, con $h$ el paso temporal. Con la notación $T_m(t_n) \\equiv T_m^n$, tenemos\n",
    "\n",
    "$\\displaystyle \\Rightarrow \\left.\\frac{\\partial T}{\\partial t}\\right|_{x=ma, t=nh} \\approx \\frac{T_{m}^{n+1} - T_m^n}{h} \\equiv \\kappa\\frac{T_{m+1}^n - 2 T_m^n + T_{m-1}^n}{a^2}$ (\"Tiempo al frente\", FT).\n",
    "\n",
    "Con esto:\n",
    "\n",
    "$\\Rightarrow$ **El método FCTS explícito:**\n",
    "$$\n",
    "\\boxed{T_m^{n+1} = T_m^n + \\frac{\\kappa h}{a^2}\\left(T_{m+1}^n - 2 T_m^n + T_{m-1}^n\\right)}.\n",
    "$$\n",
    "\n",
    "\n",
    "Nótese que utilizamos el método de Euler para atacar el diferencial temporal.\n",
    "\n",
    "* Esta puede parecer una decisión extraña dado que conocemos métodos más precisos para la evolución temporal (e.g. Runge-Kutta)\n",
    "* Sin embargo, la aproximación espacial de la segunda derivada espacial no es muy precisa e introduce un error de segundo orden. De esta forma, no tiene sentido mejorar la aproximación temporal.\n",
    "\n",
    "\n",
    "### Estabilidad numérica\n",
    "\n",
    "* El método FCTS es estable para ecuaciones parabólicas, pero **no lo es para ecuaciones hiperbólicas** tales como la ecuación de onda\n",
    "* Esto se debe a modos de oscilación que introduce la discretización numérica\n",
    "* Existen formas de mejorar esta estabilidad para ecuaciones hiperbólicas que veremos en la siguiente lección\n",
    "* Para ecuaciones parabólicas el método FCTS implícito es estable "
   ]
  },
  {
   "cell_type": "markdown",
   "metadata": {},
   "source": [
    "# Laboratorio\n",
    "\n",
    "<div>\n",
    "<img src=\"Fig1.png\" width=\"550\"/>\n",
    "</div>\n",
    "\n",
    "Nuestro objetivo es calcular el perfil de temperatura vertical de la interfase metálica, con $x$ denotando la distancia desde el medio caliente hasta el medio frío. Vamos a calcular este perfil de temperatura como función del tiempo. Vamos a asumir que el perfil de temperatura es igual en toda la sección del fondo del contenedor y que los cambios de temperatura de los medios no cambian apreciablemente.\n",
    "\n",
    "Utilicemos los siguientes parámetros:\n",
    "* $T_{\\rm{hot}} = 50 C$\n",
    "* $T_{\\rm{cold}} = 0 C$\n",
    "* La temperatura inicial del contenedor es $T_{\\rm{mid}} = 20 C$\n",
    "* La difusividad térmica es $\\kappa = 4.25 \\times 10^{-6} m^2 s^{-1}$\n",
    "* $L = 0.01 m$, el grosor del contenedor\n",
    "* $M = 100$, el número de puntos de la grilla espacial\n",
    "* $h = 10^{-4}$, el paso temporal\n",
    "\n",
    "Complete la siguiente función con el método FTCS y grafique el perfil del temperatura del contenedor en los puntos temporales $t = 0.01, 0.1, 0.4, 10.0$"
   ]
  },
  {
   "cell_type": "code",
   "execution_count": 8,
   "metadata": {},
   "outputs": [],
   "source": [
    "import numpy as np\n",
    "\n",
    "# El argumento t_end es el tiempo final, i.e., t = 10.0\n",
    "def heat_ftcs_explicit(Th, Tc, Tm, kappa, L, M, h, t_end):\n",
    "    # Creamos el arreglo para contener el perfil de temperatura\n",
    "    # Note que usamos M + 1\n",
    "    T = np.zeros(M + 1, dtype = float)\n",
    "    # Condición de inicial\n",
    "    T[0] = Th\n",
    "    T[M] = Tc\n",
    "    T[1:M] = Tm\n",
    "    # Arreglo de valores de temperatura\n",
    "    Tp = np.zeros(M + 1, dtype = float)\n",
    "    Tp[0] = Th\n",
    "    Tp[M] = Tc\n",
    "    # Parámetros\n",
    "    t = 0.0\n",
    "    a = L / M\n",
    "    # Arreglo de resultados t = 0.01, 0.1, 0.4, 10.0\n",
    "    T_res = np.zeros((M + 1, 4), dtype = float)\n",
    "    # FTCS\n",
    "    its = 0\n",
    "    index = 0\n",
    "    while t < t_end:\n",
    "        # Calculamos los valores nuevos de temperatura\n",
    "        for i in range(1, M):\n",
    "            # COMPLETE AQUÍ CON FTCS\n",
    "            Tp[i] = T[i] + (kappa*h/(a**2))*(T[i+1] - 2*T[i] + T[i-1])\n",
    "        # Ahora debemos copiar Tp en T\n",
    "        # COMPLETE AQUÍ\n",
    "        T = Tp.copy()\n",
    "        # Incrementamos el tiempo en un paso h\n",
    "        t += h\n",
    "        its += 1\n",
    "        # Si el tiempo es 0.01, 0.1, 0.4 o 10.0; guardamos el resultado en un arreglo\n",
    "        if its == 100 or its == 1000 or its == 4000 or its == 100000:\n",
    "            # COMPLETE AQUÍ\n",
    "            # Guarde el resultado en T_res e incremente index\n",
    "            T_res[:,index] = T.copy()\n",
    "            index += 1\n",
    "        \n",
    "    return T_res, its"
   ]
  },
  {
   "cell_type": "code",
   "execution_count": 9,
   "metadata": {},
   "outputs": [],
   "source": [
    "# Invoque la función\n",
    "T, its = heat_ftcs_explicit(50,0,20,4.25*1e-6,0.01,100,1e-4,10)"
   ]
  },
  {
   "cell_type": "code",
   "execution_count": 10,
   "metadata": {},
   "outputs": [
    {
     "data": {
      "image/png": "[encoded data removed]",
      "text/plain": [
       "<Figure size 432x288 with 1 Axes>"
      ]
     },
     "metadata": {
      "needs_background": "light"
     },
     "output_type": "display_data"
    }
   ],
   "source": [
    "import matplotlib.pyplot as plt\n",
    "\n",
    "plt.plot(T[:,0])\n",
    "plt.plot(T[:,1])\n",
    "plt.plot(T[:,2])\n",
    "plt.plot(T[:,3])\n",
    "plt.xlabel('x')\n",
    "plt.ylabel('T')\n",
    "plt.show()"
   ]
  },
  {
   "cell_type": "code",
   "execution_count": null,
   "metadata": {},
   "outputs": [],
   "source": []
  }
 ],
 "metadata": {
  "anaconda-cloud": {},
  "kernelspec": {
   "display_name": "Python 3 (ipykernel)",
   "language": "python",
   "name": "python3"
  },
  "language_info": {
   "codemirror_mode": {
    "name": "ipython",
    "version": 3
   },
   "file_extension": ".py",
   "mimetype": "text/x-python",
   "name": "python",
   "nbconvert_exporter": "python",
   "pygments_lexer": "ipython3",
   "version": "3.10.12"
  }
 },
 "nbformat": 4,
 "nbformat_minor": 1
}
