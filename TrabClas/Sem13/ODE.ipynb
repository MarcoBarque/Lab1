{
 "cells": [
  {
   "cell_type": "markdown",
   "metadata": {},
   "source": [
    "# Ecuaciones Diferenciales Ordinarias (ODEs)"
   ]
  },
  {
   "cell_type": "markdown",
   "metadata": {},
   "source": [
    "## Introducción\n",
    "\n",
    "Consideremos el problema\n",
    "\\begin{align}\n",
    "\\frac{{\\rm d}x}{{\\rm d}t} = \\frac{2x}{t}.\n",
    "\\end{align}\n",
    "Esta ecuación puede ser integrada directamente separando variables de forma análitica.\n",
    "\n",
    "Por otro lado, el siguiente problema\n",
    "\\begin{align}\n",
    "\\frac{{\\rm d}x}{{\\rm d}t} = \\frac{2x}{t} + \\frac{3x^2}{t^3},\n",
    "\\end{align}\n",
    "ya no es separable y además de eso, es un problema no lineal (en el sentido de que aparecen potencias no lineales de la variable dependiente). \n",
    "\n",
    "**Las ecuaciones diferenciales no lineales rara vez se pueden resolver de forma analítica**. Dado que dichas ecuaciones diferenciales aparecen en distintos campos en la ciencia, debemos atacar el problema de forma numérica.\n",
    "\n",
    "El problema general que consideraremos es una ecuación diferencial ordinaria sujeta a alguna condición inicial. La forma general está dada por \n",
    "$$\n",
    "\\frac{\\text d x}{\\text d t} = f(x, t) \\quad \\text{con} \\quad x(t=0)=x_0.\n",
    "$$\n",
    "\n",
    "Algunos de los métodos que veremos son aplicables a otras clases de problemas, por ejemplo\n",
    "* $n$D: $\\quad\\displaystyle \\frac{\\text d x_i}{\\text d t} = f_i(x_1,\\dots{},x_n, t)\\quad \\text{con}\\quad x_i(t=0)=x_{i0}.$\n",
    "* Ordenes mayores, e.g.:\n",
    "$$\n",
    "\\frac{\\text d^3 x}{\\text d t^3} =f(x, t)\\quad \\Leftrightarrow \\quad \\frac{\\text d x}{\\text d t} = v,\\ \\frac{\\text d v}{\\text d t} = a,\\ \\frac{\\text d a}{\\text d t}=f.\n",
    "$$\n",
    "* Conjuntos acoplados de ecuaciones diferenciales"
   ]
  },
  {
   "cell_type": "markdown",
   "metadata": {},
   "source": [
    "## Bibliotecas\n",
    "\n",
    "Antes de discutir algoritmos para resolver ODEs, mencionemos las bibliotecas en `Python` para resolver sistemas. \n",
    "\n",
    "* `SciPy` contiene dos métodos para atacar el problema ubicados dentro del módulo `scipy.integrate`\n",
    "  - `odeint` es el método clásico de la biblioteca: a pesar de que es poderoso, posee mucha funcionalidad escondida con la cual es difícil controlar el cálculo, sin mencionar que es complicado entender la forma en que los errores son estimados\n",
    "  - `solve_ivp` es el método preferido, dado que nos da mayor control sobre las operaciones realizadas\n",
    "* En general, el flujo de trabajo es utilizar alguno de estos métodos siempre y cuando no la estimación de errores no sea tan importante\n",
    "* En muchos casos prácticos, estos métodos contienen muchos cálculos secundarios que pueden hacer la evaluación de una ecuación diferencial muy ineficiente. \n",
    "* Si el rendimiento de estos métodos no es suficiente, lo mejor es implementar un método que sepamos que se ajusta bien a nuestro problema"
   ]
  },
  {
   "cell_type": "markdown",
   "metadata": {},
   "source": [
    "# Método de Euler\n",
    "\n",
    "El método de Euler es muy sencillo, se basa en la expansión de Taylor de la función $x(t)$. Tenemos\n",
    "$$\n",
    "\\text{Expansión Taylor} \\Rightarrow x(t+h) = x(t) + h\\frac{dx}{dt} + \\overbrace{ \\frac{h^2}{2} \\frac{d^2x}{dt^2} } ^{\\epsilon} + O(h^3).\n",
    "$$\n",
    "Esto implica que para avanzar en el tiempo la función por un paso $h$, el cual suponemos que es lo suficientemente pequeño, basta con utilizar la ecuación\n",
    "$$\n",
    "\\boxed{x(t + h) = x(t) + hf(x,t).}\n",
    "$$\n",
    "El error asociado con la aproximación **está ligado a la cantidad de veces que hagamos la aproximación**, es decir, al número de pasos en el tiempo que utilicemos en nuestra solución. Lo podemos estimar de la siguiente forma\n",
    "$$\n",
    "\\sum\\epsilon = \\sum_{k=0}^{N-1}\\frac{h^2}{2}\\left. \\frac{d^2x}{dt^2} \\right|_{x_k, t_k} = \\frac{h}{2}\\sum_{k=0}^{N-1}h\\left.\\frac{df}{dt}\\right|_{x_k, t_k}\\\\\n",
    "\\approx \\frac{h}2\\int_a^b\\frac{df}{dt}d t = \\frac{h}{2}\\left[f_b - f_a\\right].\n",
    "$$\n",
    "En la ecuación anterior asumimos que tomamos $N = (b-a)/h$ pasos temporales para llegar al punto final.\n",
    "\n",
    "Entonces, naturalmente, el error total de aproximación depende $h$ linealmente multiplicado por el intervalo en el cual realizamos la integración.\n",
    "\n",
    "* Para algunas aplicaciones, esto es suficiente. Para otras, necesitamos una mejor aproximación.\n",
    "* El algoritmo toma la siguiente forma:\n",
    "  - Empezar con $t = t_0$, $x = x_0$\n",
    "  - Discretizar el tiempo en pasos temporales de forma equidistante con espaciamiento $h$, donde cada punto en el tiempo está denotado con $t_i$\n",
    "  - Para cada punto en el tiempo encontrar $x$ utilizando el resultado de la iteración previa: $x_i = x_{i-1} + hf(x_{i-1})$"
   ]
  },
  {
   "cell_type": "markdown",
   "metadata": {},
   "source": [
    "# Método de Runge-Kutta\n",
    "\n",
    "El método de Euler puede darnos una buena aproximación dependiendo del problema y de la cantidad de iteraciones que necesitamos en nuestra solución. En general, con el método de Euler, un cálculo que es el doble más preciso requiere el doble de recursos computacionales.\n",
    "\n",
    "El método de Runge-Kutta es en realidad una familia de métodos de distinto orden que proveen una mejor aproximación sin la necesidad de considerar ordenes más altos en la expansión de Taylor del método de Euler. Este último punto se quiere evitar, dado que es complicado conocer la derivada de la función que estamos evaluando en el lado derecho de la ODE.\n",
    "\n",
    "<div>\n",
    "<img src=\"Fig1.png\" width=\"550\"/>\n",
    "</div>\n",
    "\n",
    "### Método de Runge-Kutta 2$^{\\rm do}$ Orden (RK2)\n",
    "\n",
    "La idea del método RK2 es utilizar el punto medio para evaluar el método de Euler, como se indica en la figura. Mientras que el método de Euler se aplica en el punto $t$ para evaluar la derivada para aproximar la función en el punto $x = t + h$, el método RK2 utiliza el punto medio $t + h/2$. \n",
    "\n",
    "De esta forma, se alcanza una mejor aproximación para el mismo valor de $h$.\n",
    "\n",
    "El método se deriva aplicando la serie de Taylor alrededor del punto medio $t + h/2$ para obtener el valor de la función en el punto $x(t + h)$. Tenemos\n",
    "$$\n",
    "x(t + h) = x\\left(t + \\frac{h}{2}\\right) + \\frac{h}{2}\\left(\\frac{{\\rm d}x}{{\\rm d}t}\\right)_{t+h/2} + \\frac{h^2}{8}\\left(\\frac{{\\rm d}^2x}{{\\rm d}t^2}\\right)_{t+h/2} + O(h^3).\n",
    "$$\n",
    "Similarmente, podemos hacer lo mismo para $x(t)$, tal que\n",
    "$$\n",
    "x(t) = x\\left(t + \\frac{h}{2}\\right) - \\frac{h}{2}\\left(\\frac{{\\rm d}x}{{\\rm d}t}\\right)_{t+h/2} + \\frac{h^2}{8}\\left(\\frac{{\\rm d}^2x}{{\\rm d}t^2}\\right)_{t+h/2} + O(h^3).\n",
    "$$\n",
    "Al sustraer ambas ecuaciones obtenemos\n",
    "$$\n",
    "x(t + h) = x(t) + h\\left(\\frac{{\\rm d}x}{{\\rm d}t}\\right)_{t+h/2} + O(h^3)\n",
    "$$\n",
    "Finalmente,\n",
    "$$\n",
    "\\boxed{x(t + h) = x(t) + hf[x(t + h/2), t + h/2] + O(h^3)}.\n",
    "$$\n",
    "El término de orden $h^2$ desaparece y nuestra aproximación tiene un error de orden $h^3$. Recordemos que incrementar el orden del error por un orden de magnitud es muy beneficioso a nivel computacional. \n",
    "\n",
    "El único problema es que requerimos conocer el valor de la función en el punto medio $x(t + h/2)$, el cual desconocemos.\n",
    "\n",
    "Para aproximar este valor utilizamos el método de Euler con un paso $h/2$, $(x + h/2) = x(t) + \\frac{h}{2}f(x,t)$. De esta manera, obtenemos las ecuaciones del método RK2:\n",
    "* $k_1 = hf(x,t),$\n",
    "* $k_2 = hf\\left(x + \\frac{k_1}{2},t + \\frac{h}{2}\\right)$\n",
    "* $x(t + h) = x(t) + k_2$\n",
    "El error de aproximación de cada paso es de orden $O(h^3)$, mientras que el error global (con un análisis similar al que hicimos con el método de Euler) es de order $O(h^2)$. \n",
    "\n",
    "Cabe recalcar que al utilizar el método de Euler para la primera parte de la aproximación, el error también es de $O(h^3)$ y por ende el error de aproximación se mantiene de $O(h^3)$.\n",
    "\n",
    "### Método de Runge-Kutta de 4$^{\\rm to}$ Orden\n",
    "\n",
    "La metodología anterior se puede aplicar aún a más puntos ubicados entre $x(t)$ y $x(t + h)$ realizando expansiones de Taylor. De esta forma se pueden agrupar términos de orden $h^3$, $h^4$, etc; para cancelar dichas expresiones. \n",
    "\n",
    "El problema de hacer esto es que las expresiones se vuelven más complicadas conforme incrementamos el orden de aproximación. En general, la regla de dedo es que el $4^{\\rm to}$ orden corresponde al mejor compromiso entre complejidad y error de aproximación. Este método es el más utilizado comunmente para resolver ODEs. \n",
    "\n",
    "El álgebra para encontrar las ecuaciones de $4^{\\rm to}$ orden es tediosa, pero el resultado final es\n",
    "* $k_1 = hf(x, t)$,\n",
    "* $k_2 = hf\\left(x + \\frac{k_1}{2}, t+\\frac{h}2\\right)$,\n",
    "* $k_3 = hf\\left(x + \\frac{k_2}{2}, t+\\frac{h}2\\right)$,\n",
    "* $k_4 = hf\\left(x + k_3, t + h \\right)$,\n",
    "* $x(t+h) = x(t) + \\frac{1}{6}(k_1 + 2 k_2 + 2k_3 + k_4)$.\n",
    "\n",
    "Para la mayoría de aplicaciones, el método RK4 es el método de-facto para obtener soluciones. Es fácil de programar y devuelve resultados precisos. \n",
    "\n",
    "El error de aproximación es $O(h^5)$, mientras que el error global es aproximadamente del orden $O(h^4)$."
   ]
  },
  {
   "cell_type": "markdown",
   "metadata": {},
   "source": [
    "## Ecuaciones Diferenciales Multivariables\n",
    "\n",
    "Podemos tener más de una variable dependiente, e.g.,\n",
    "$$\n",
    "\\frac{\\text d x}{\\text d t} = f_x(x, y, t), \\quad \\frac{\\text d y}{\\text d t} = f(x, y, t),\n",
    "$$\n",
    "en las cuales $f_x$ y $f_y$ son posiblemente ecuaciones no lineares, lo cual imposibilita en muchos casos el uso de métodos analíticos. \n",
    "\n",
    "Note que estas no son ecuaciones diferenciales parciales, dado que existe solamente una variable independiente.\n",
    "\n",
    "La forma general de estas ecuaciones diferenciales es\n",
    "$$\n",
    "\\frac{\\text d \\mathbf{r}}{\\text d t} = \\mathbf{f}(\\mathbf{r}, t),\n",
    "$$\n",
    "con $\\mathbf{r} = (x, y, \\cdots)$ y $\\mathbf{f}(\\mathbf{r}, t) = (f_x(\\mathbf{r}, t), f_y(\\mathbf{r}, t), \\cdots)$. \n",
    "\n",
    "**En estos casos los métodos de Euler y Runge-Kutta se pueden utilizar directamente sobre los vectores, generalizando las ecuaciones que vimos anteriormente**."
   ]
  },
  {
   "cell_type": "markdown",
   "metadata": {},
   "source": [
    "## Ecuaciones Diferenciales de Mayor Orden\n",
    "\n",
    "La idea es reducir el orden de la ecuación diferencial a cambio de resolver **ecuaciones diferenciales simultáneas**. Por ejemplo, la ecuación\n",
    "$$\n",
    "\\frac{\\text d^2 x}{\\text d t^2} = f(x, \\frac{\\text d x}{\\text d t}, t),\n",
    "$$\n",
    "es equivalente a resolver de forma s\n",
    "imultánea\n",
    "* $\\frac{\\text d x}{\\text d t} = y$,\n",
    "* $\\frac{\\text d y}{\\text d t} = f(x, y, t)$.\n",
    "\n",
    "De la misma forma, para ecuaciones de $3^{\\rm er}$ orden, construimos el conjunto de ecuaciones simultáneas\n",
    "* $\\frac{\\text d x}{\\text d t} = y$,\n",
    "* $\\frac{\\text d y}{\\text d t} = z$,\n",
    "* $\\frac{\\text d z}{\\text d t} = f(x, y, z, t)$.\n",
    "\n",
    "Estas ecuaciones simultáneas se pueden resolver con el método deseado (Euler, RK2, RK4) para un sistema multivariable. \n",
    "\n",
    "Este procedimiento se puede realizar para ecuaciones de orden mayor, aunque las ecuaciones diferenciales de orden mayor a 3 en la ciencia son muy poco comunes."
   ]
  },
  {
   "cell_type": "markdown",
   "metadata": {},
   "source": [
    "## Métodos adaptativos\n",
    "\n",
    "Existen métodos para modificar el paso temporal $h$ de manera tal que los pasos no se toman de forma equidistante. La idea es mantener el error aproximadamente constante a medida que se cambia el paso temporal. \n",
    "\n",
    "Esto puede ser útil para funciones que cambian muy rápido en el tiempo. \n",
    "\n",
    "Ver Newman Cap 8.4 para más detalles. Algunas bibliotecas en `Python` incluyen metodología para adaptar el algoritmo a pasos $h$ cambiantes. Estas metodologías deben ser utilizadas con cuidado dado que incurren en un costo computacional más alto."
   ]
  },
  {
   "cell_type": "markdown",
   "metadata": {},
   "source": [
    "# Simetría de inversión temporal\n",
    "\n",
    "Muchos problemas en la física involucran una simetría importante de **invariancia de inversión temporal**, la cual puede ser entendida como una consecuencia (o resultado de) la **conservación de la energía total**.\n",
    "\n",
    "El problema que surge con los métodos que hemos derivado es que **no respetan esta simetría de forma directa**, es decir, si empezamos con el valor final y aplicamos el método en reversa no obtenemos la condición inicial.\n",
    "\n",
    "<div>\n",
    "<img src=\"Fig2.png\" width=\"550\"/>\n",
    "</div>\n",
    "\n",
    "El ejemplo anterior es la solución del problema del péndulo no lineal sin fricción, con las ecuaciones\n",
    "$$\n",
    "\\frac{\\text d \\theta}{\\text d t} = \\omega, \\quad \\frac{\\text d \\omega}{\\text d t} = -\\frac{g}{l}\\sin \\theta.\n",
    "$$\n",
    "Al aplicar el método RK2 con cierto valor de $h$, la solución puede diverger como se muestra en la figura. Existen métodos que respetan la simetría temporal, los cuales dan el resultado correcto como se muestra. Un ejemplo corresponde al *método de saltos intermedios*.\n",
    "\n",
    "Cabe destacar que este problema usualmente se resuelve haciendo el valor de $h$ más pequeño.\n",
    "\n",
    "## Método de saltos intermedios (*leapfrog methods*)\n",
    "\n",
    "Existe una forma de utilizar los métodos anteriores respetando la simetría temporal. La forma más básica, es el método de saltos intermedios.\n",
    "\n",
    "<div>\n",
    "<img src=\"Fig3.png\" width=\"550\"/>\n",
    "</div>\n",
    "\n",
    "**En la figura anterior:** \n",
    "  - El diagrama (a) corresponde al caso RK2: utilizamos el punto medio para evaluar la evolución al paso completo\n",
    "  - El diagrama (b) corresponde al método de saltos intermedios: utilizamos el punto medio para evaluar la evolución al paso completo, pero cada punto medio se calcula utilizando el punto medio anterior.\n",
    "  \n",
    "Se puede demostrar que este procedimiento respeta la simetría de inversión temporal, de manera tal que el error incurrido es de aproximación y no sistemático, como puede ocurrir con métodos directos.\n",
    "\n",
    "## Métodos avanzados\n",
    "\n",
    "Existen métodos más avanzados para llevar los saltos intermedios a ordenes mayores.\n",
    "\n",
    "Para más información: Newman Cap. 8."
   ]
  },
  {
   "cell_type": "markdown",
   "metadata": {},
   "source": [
    "# Laboratorio\n",
    "\n",
    "Resuelva la ecuación diferencial\n",
    "$$\n",
    "\\frac{{\\rm d}x}{{\\rm d}t} = -x^3 + \\sin(t),\n",
    "$$\n",
    "con la condición inicial $x(0) = 0$ desde $t = 0$ hasta $t = 10$.\n",
    "\n",
    "* Utilice los métodos: Euler, RK2 y RK4.\n",
    "* Grafique la solución para cada caso con 20 pasos y 1000 pasos en el mismo gráfico (es decir, tres gráficos con dos curvas cada uno)"
   ]
  },
  {
   "cell_type": "code",
   "execution_count": 1,
   "metadata": {},
   "outputs": [],
   "source": [
    "# Marco Barquero C30970, Andres Chacon C32026\n",
    "\n",
    "import numpy as np\n",
    "import matplotlib.pyplot as plt\n",
    "\n",
    "x_0 = 0\n",
    "t_in = 0\n",
    "t_fin = 10\n",
    "\n",
    "def func(x,t):\n",
    "    return -x**3 + np.sin(t)"
   ]
  },
  {
   "cell_type": "code",
   "execution_count": 2,
   "metadata": {},
   "outputs": [],
   "source": [
    "#Euler\n",
    "def euler(x_0,t_in,t_fin,steps,func):\n",
    "    time = np.linspace(t_in,t_fin,steps)\n",
    "    x_vals = np.zeros(steps)\n",
    "    h = (t_fin-t_in)/steps\n",
    "    for i in range(steps):\n",
    "        if i == 0:\n",
    "            x_vals[i] = x_0\n",
    "        else:\n",
    "            x_vals[i] = x_0 + h*func(x_0,time[i-1])\n",
    "            x_0 = x_vals[i]\n",
    "    return x_vals,time"
   ]
  },
  {
   "cell_type": "code",
   "execution_count": 3,
   "metadata": {},
   "outputs": [
    {
     "data": {
      "image/png": "[encoded data removed]",
      "text/plain": [
       "<Figure size 432x288 with 1 Axes>"
      ]
     },
     "metadata": {
      "needs_background": "light"
     },
     "output_type": "display_data"
    }
   ],
   "source": [
    "plt.figure\n",
    "[x_vals,time] = euler(x_0,t_in,t_fin,20,func)\n",
    "plt.plot(time,x_vals);\n",
    "[x_vals,time] = euler(x_0,t_in,t_fin,1000,func)\n",
    "plt.plot(time,x_vals);"
   ]
  },
  {
   "cell_type": "code",
   "execution_count": 4,
   "metadata": {},
   "outputs": [],
   "source": [
    "#Runge-Kutta 2° Orden\n",
    "def rk2(x_0,t_in,t_fin,steps,func):\n",
    "    time = np.linspace(t_in,t_fin,steps)\n",
    "    x_vals = np.zeros(steps)\n",
    "    h = (t_fin-t_in)/steps\n",
    "    for i in range(steps):\n",
    "        if i == 0:\n",
    "            x_vals[i] = x_0\n",
    "        else:\n",
    "            k1 = h*func(x_0,time[i-1])\n",
    "            k2 = h*func(x_0+k1/2,time[i-1]+h/2)\n",
    "            x_vals[i] = x_0 + k2\n",
    "            x_0 = x_vals[i]\n",
    "    return x_vals,time"
   ]
  },
  {
   "cell_type": "code",
   "execution_count": 5,
   "metadata": {},
   "outputs": [
    {
     "data": {
      "image/png": "[encoded data removed]",
      "text/plain": [
       "<Figure size 432x288 with 1 Axes>"
      ]
     },
     "metadata": {
      "needs_background": "light"
     },
     "output_type": "display_data"
    }
   ],
   "source": [
    "plt.figure\n",
    "[x_vals,time] = rk2(x_0,t_in,t_fin,20,func)\n",
    "plt.plot(time,x_vals);\n",
    "[x_vals,time] = rk2(x_0,t_in,t_fin,1000,func)\n",
    "plt.plot(time,x_vals);"
   ]
  },
  {
   "cell_type": "code",
   "execution_count": 7,
   "metadata": {},
   "outputs": [],
   "source": [
    "#Runge-Kutta 4° Orden\n",
    "def rk4(x_0,t_in,t_fin,steps,func):\n",
    "    time = np.linspace(t_in,t_fin,steps)\n",
    "    x_vals = np.zeros(steps)\n",
    "    h = (t_fin-t_in)/steps\n",
    "    for i in range(steps):\n",
    "        if i == 0:\n",
    "            x_vals[i] = x_0\n",
    "        else:\n",
    "            k1 = h*func(x_0,time[i-1])\n",
    "            k2 = h*func(x_0+k1/2,time[i-1]+h/2)\n",
    "            k3 = h*func(x_0+k2/2,time[i-1]+h/2)\n",
    "            k4 = h*func(x+k3,t+h)\n",
    "            x_vals[i] = x_0 + (1/6)*(k1 + 2*k2 + 2*k3 + k4)\n",
    "            x_0 = x_vals[i]\n",
    "    return x_vals,time"
   ]
  },
  {
   "cell_type": "code",
   "execution_count": 8,
   "metadata": {},
   "outputs": [
    {
     "data": {
      "image/png": "[encoded data removed]",
      "text/plain": [
       "<Figure size 432x288 with 1 Axes>"
      ]
     },
     "metadata": {
      "needs_background": "light"
     },
     "output_type": "display_data"
    }
   ],
   "source": [
    "plt.figure\n",
    "[x_vals,time] = rk2(x_0,t_in,t_fin,20,func)\n",
    "plt.plot(time,x_vals);\n",
    "[x_vals,time] = rk2(x_0,t_in,t_fin,1000,func)\n",
    "plt.plot(time,x_vals);\n",
    "\n"
   ]
  },
  {
   "cell_type": "code",
   "execution_count": null,
   "metadata": {},
   "outputs": [],
   "source": []
  }
 ],
 "metadata": {
  "anaconda-cloud": {},
  "kernelspec": {
   "display_name": "Python 3 (ipykernel)",
   "language": "python",
   "name": "python3"
  },
  "language_info": {
   "codemirror_mode": {
    "name": "ipython",
    "version": 3
   },
   "file_extension": ".py",
   "mimetype": "text/x-python",
   "name": "python",
   "nbconvert_exporter": "python",
   "pygments_lexer": "ipython3",
   "version": "3.10.12"
  }
 },
 "nbformat": 4,
 "nbformat_minor": 1
}
