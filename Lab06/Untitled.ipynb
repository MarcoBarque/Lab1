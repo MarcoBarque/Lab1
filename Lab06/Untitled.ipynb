{
 "cells": [
  {
   "cell_type": "code",
   "execution_count": 2,
   "id": "a2eb7955",
   "metadata": {},
   "outputs": [],
   "source": [
    "import math\n",
    "import numpy as np\n",
    "import copy\n",
    "import matplotlib.pyplot as plt"
   ]
  },
  {
   "cell_type": "markdown",
   "id": "387c4e40",
   "metadata": {},
   "source": [
    "\\begin{align}\n",
    "E(x) = \\int_{0}^{x} e^{-t^2} {\\rm{d}}t.\n",
    "\\end{align}"
   ]
  },
  {
   "cell_type": "code",
   "execution_count": 5,
   "id": "562d641b",
   "metadata": {},
   "outputs": [],
   "source": [
    "def funce(t):\n",
    "    return math.exp(-t**2)"
   ]
  },
  {
   "cell_type": "code",
   "execution_count": 12,
   "id": "3c24e6d9",
   "metadata": {},
   "outputs": [],
   "source": [
    "def riemann(func,xValues):\n",
    "    N = xValues.size\n",
    "    a = xValues[0]\n",
    "    h = xValues[1]-xValues[0]\n",
    "    yValues = np.zeros(N)\n",
    "    summ = 0\n",
    "    \n",
    "    for k in range(N):\n",
    "        summ += func(a+(k*h))*h\n",
    "        yValues[k] = summ\n",
    "        \n",
    "    print(summ)\n",
    "    return yValues"
   ]
  },
  {
   "cell_type": "code",
   "execution_count": 55,
   "id": "7b4fa205",
   "metadata": {},
   "outputs": [
    {
     "name": "stdout",
     "output_type": "stream",
     "text": [
      "0.9227749846357234\n"
     ]
    },
    {
     "data": {
      "image/png": "[encoded data removed]",
      "text/plain": [
       "<Figure size 432x288 with 1 Axes>"
      ]
     },
     "metadata": {
      "needs_background": "light"
     },
     "output_type": "display_data"
    }
   ],
   "source": [
    "xValues_rie = np.linspace(0,2,26)\n",
    "yValues_rie = riemann(funce,xValues_rie)\n",
    "plt.plot(xValues_rie,yValues_rie);"
   ]
  },
  {
   "cell_type": "code",
   "execution_count": 20,
   "id": "f8b663d5",
   "metadata": {},
   "outputs": [],
   "source": [
    "def trape(func,xValues):\n",
    "    N = xValues.size\n",
    "    a = xValues[0]\n",
    "    h = xValues[1]-xValues[0]\n",
    "    yValues = np.zeros(N)\n",
    "    summ = 0\n",
    "    \n",
    "    for k in range(N):\n",
    "        summ += (func(a+k*h)+func(a+h*k+h))*h/2\n",
    "        yValues[k] = summ\n",
    "        \n",
    "    print(summ)\n",
    "    return yValues"
   ]
  },
  {
   "cell_type": "code",
   "execution_count": 54,
   "id": "64e95651",
   "metadata": {},
   "outputs": [
    {
     "name": "stdout",
     "output_type": "stream",
     "text": [
      "0.8833035860792932\n"
     ]
    },
    {
     "data": {
      "image/png": "[encoded data removed]",
      "text/plain": [
       "<Figure size 432x288 with 1 Axes>"
      ]
     },
     "metadata": {
      "needs_background": "light"
     },
     "output_type": "display_data"
    }
   ],
   "source": [
    "xValues_tra = np.linspace(0,2,26)\n",
    "yValues_tra = trape(funce,xValues_tra)\n",
    "plt.plot(xValues_tra,yValues_tra);"
   ]
  },
  {
   "cell_type": "code",
   "execution_count": 47,
   "id": "a0ec8913",
   "metadata": {},
   "outputs": [],
   "source": [
    "def simpson(func,xValues):\n",
    "    N = xValues.size\n",
    "    a = xValues[0]\n",
    "    h = xValues[1]-xValues[0]\n",
    "    yValues = np.zeros(N)\n",
    "    summ = 0\n",
    "    \n",
    "    if N%2==0:\n",
    "        for k in range(1,int(N/2)):\n",
    "            summ += h/3*(func(a+(2*k-2)*h)+4*func(a+(2*k-1)*h)+func(a+2*k*h))\n",
    "            yValues[2*k] = summ\n",
    "            yValues[2*k+1] = summ\n",
    "    elif N%2==1:\n",
    "        for k in range(1,int((N-1)/2)):\n",
    "            summ += h/3*(func(a+(2*k-2)*h)+4*func(a+(2*k-1)*h)+func(a+2*k*h))\n",
    "            yValues[2*k] = summ\n",
    "            yValues[2*k+1] = summ\n",
    "        summ += h*func(N-1)\n",
    "        yValues[N-1] = summ\n",
    "            \n",
    "    \n",
    "    print(summ)\n",
    "    return yValues"
   ]
  },
  {
   "cell_type": "code",
   "execution_count": 53,
   "id": "5daf9b06",
   "metadata": {},
   "outputs": [
    {
     "name": "stdout",
     "output_type": "stream",
     "text": [
      "0.8803583383939941\n"
     ]
    },
    {
     "data": {
      "image/png": "[encoded data removed]",
      "text/plain": [
       "<Figure size 432x288 with 1 Axes>"
      ]
     },
     "metadata": {
      "needs_background": "light"
     },
     "output_type": "display_data"
    }
   ],
   "source": [
    "xValues_simp = np.linspace(0,2,26)\n",
    "yValues_simp = simpson(funce,xValues_simp)\n",
    "plt.plot(xValues_simp,yValues_simp);"
   ]
  },
  {
   "cell_type": "code",
   "execution_count": 67,
   "id": "d00eee16",
   "metadata": {},
   "outputs": [],
   "source": [
    "def simpson2(func,a,b,N):\n",
    "    h = (b-a)/N\n",
    "    summ = 0\n",
    "    \n",
    "    if N%2==0:\n",
    "        summ += (h/3)*(func(a)+func(a+N*h))\n",
    "        for k in range(1,N,2):\n",
    "            summ += 4*(h/3)*func(a+k*h)\n",
    "        for k in range(2,N,2):\n",
    "            summ += 2*(h/3)*func(a+k*h)\n",
    "    elif N%2==1:\n",
    "        summ += (h/3)*(func(a)+func(a+(N-1)*h))\n",
    "        for k in range(1,N-1,2):\n",
    "            summ += 4*(h/3)*func(a+k*h)\n",
    "        for k in range(2,N-1,2):\n",
    "            summ += 2*(h/3)*func(a+k*h)\n",
    "        summ += h*func(a+N*h)\n",
    "            \n",
    "    return summ"
   ]
  },
  {
   "cell_type": "code",
   "execution_count": 69,
   "id": "777e4cb0",
   "metadata": {},
   "outputs": [
    {
     "name": "stdout",
     "output_type": "stream",
     "text": [
      "0.8818235895050929\n"
     ]
    },
    {
     "data": {
      "image/png": "[encoded data removed]",
      "text/plain": [
       "<Figure size 432x288 with 1 Axes>"
      ]
     },
     "metadata": {
      "needs_background": "light"
     },
     "output_type": "display_data"
    }
   ],
   "source": [
    "xValues_simp = np.linspace(0,2,26)\n",
    "yValues_simp = np.zeros(xValues_simp.size)\n",
    "for tt in range(1,xValues_simp.size):\n",
    "    yValues_simp[tt] = simpson2(funce,0,xValues_simp[tt],tt)\n",
    "print(yValues_simp[xValues_simp.size-1])\n",
    "plt.plot(xValues_simp,yValues_simp);"
   ]
  },
  {
   "cell_type": "code",
   "execution_count": null,
   "id": "2000dc69",
   "metadata": {},
   "outputs": [],
   "source": []
  }
 ],
 "metadata": {
  "kernelspec": {
   "display_name": "Python 3 (ipykernel)",
   "language": "python",
   "name": "python3"
  },
  "language_info": {
   "codemirror_mode": {
    "name": "ipython",
    "version": 3
   },
   "file_extension": ".py",
   "mimetype": "text/x-python",
   "name": "python",
   "nbconvert_exporter": "python",
   "pygments_lexer": "ipython3",
   "version": "3.10.12"
  }
 },
 "nbformat": 4,
 "nbformat_minor": 5
}
