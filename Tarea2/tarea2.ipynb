{
 "cells": [
  {
   "cell_type": "markdown",
   "id": "262d9775",
   "metadata": {},
   "source": [
    "# Tarea 2: Programación Intermedia\n",
    "## Parte II\n",
    "<p style = 'text-align: right;'> Andrés Chacón Escalante - C32026 </p>\n",
    "<p style = 'text-align: right;'> Marco Barquero Hernández - C30970 </p>"
   ]
  },
  {
   "cell_type": "markdown",
   "id": "9b038732",
   "metadata": {},
   "source": [
    "Las siguientes librerías son las utilizadas en el código:"
   ]
  },
  {
   "cell_type": "code",
   "execution_count": 1,
   "id": "c3b43383",
   "metadata": {},
   "outputs": [],
   "source": [
    "import math\n",
    "import numpy as np\n",
    "import copy\n",
    "import matplotlib.pyplot as plt"
   ]
  },
  {
   "cell_type": "markdown",
   "id": "0e719642",
   "metadata": {},
   "source": [
    "Primero se define el método de RK4, de igual forma al presentado en $quantum.ipynb$ del material de $Semana\\_05$. En este se obtienen aproximaciones de los valores de $y_{n+1}$ para un cambio de $h$ de $x$, para esto se necesita de; $function$, la sección no diferencial de la ecuación diferencial lineal a aproximar; $x_n$, el valor de $x$ anterior al punto a calcular; $y_n$, el anterior valor de la función; $h$ el tamaño de paso entre $x_n$ y $x_{n+1}$. El método se programa como:"
   ]
  },
  {
   "cell_type": "code",
   "execution_count": 2,
   "id": "239decab",
   "metadata": {},
   "outputs": [],
   "source": [
    "def rk4(function, x_n, y_n, h):\n",
    "    k1 = function(x_n,y_n)\n",
    "    k2 = function(x_n + h/2, y_n + h/2*k1)\n",
    "    k3 = function(x_n + h/2, y_n + h/2*k2)\n",
    "    k4 = function(x_n + h, y_n + h*k3)\n",
    "    return y_n + h/6*(k1+2*k2+2*k3+k4)"
   ]
  },
  {
   "cell_type": "markdown",
   "id": "faffeafe",
   "metadata": {},
   "source": [
    "En este caso, la función ecuación a trabajar es:\n",
    "\\begin{equation}\n",
    "\\frac{dy}{dx}=2(1-y)-e^{-4x}\n",
    "\\end{equation}\n",
    "Por lo que de define una función con toda la sección no diferencial, necesario para el RK4:"
   ]
  },
  {
   "cell_type": "code",
   "execution_count": 3,
   "id": "f07563dc",
   "metadata": {},
   "outputs": [],
   "source": [
    "def function(x,y):\n",
    "    function_val = 2*(1-y)-math.exp(-4*x)\n",
    "    return function_val"
   ]
  },
  {
   "cell_type": "markdown",
   "id": "abbdae4a",
   "metadata": {},
   "source": [
    "El métodos se utilizará para valores con $x \\in [0,2]$, y se van a tomar 2500 puntos equidistantes. El \"paso\" entre cada punto ($x_n$ y $x_{n+1}$) se define como $h$."
   ]
  },
  {
   "cell_type": "code",
   "execution_count": 4,
   "id": "054037bf",
   "metadata": {},
   "outputs": [],
   "source": [
    "xValues = np.linspace(0.0, 2.0, 2500)\n",
    "h = xValues[1] - xValues[0]"
   ]
  },
  {
   "cell_type": "markdown",
   "id": "302738a2",
   "metadata": {},
   "source": [
    "Se prepara un $array$ de ceros con el tamaño de $xValues$ para almacenar los datos de $y$ obtenidos con el RK4."
   ]
  },
  {
   "cell_type": "code",
   "execution_count": 5,
   "id": "7339c89c",
   "metadata": {},
   "outputs": [],
   "source": [
    "yValues = np.zeros(xValues.size)"
   ]
  },
  {
   "cell_type": "markdown",
   "id": "60bb2386",
   "metadata": {},
   "source": [
    "Se definen los valores iniciales para $y$ y $x$ como 1 y 0, respectivamente, por la indicación de condiciones iniciales $y(0)=1$.\n",
    "Además de estos se realiza una copia con el cual se inicia el proceso del RK4:"
   ]
  },
  {
   "cell_type": "code",
   "execution_count": 6,
   "id": "f040dc68",
   "metadata": {},
   "outputs": [],
   "source": [
    "y_init = 1\n",
    "y_n = copy.deepcopy(y_init)\n",
    "\n",
    "x_init = 0\n",
    "x_n = copy.deepcopy(x_init)"
   ]
  },
  {
   "cell_type": "markdown",
   "id": "1b266922",
   "metadata": {},
   "source": [
    "Se itera a través de todos los valores a evaluar de $x$ con el métodos RK4, después de cada cálculo se guarda en un nuevo valor $y_{n+1}$ (en $y_{nn}$) y se aumenta $x_n$ en $h$ para obtener el valor de $x_{n+1}$ de la siguiente iteración."
   ]
  },
  {
   "cell_type": "code",
   "execution_count": 7,
   "id": "3fe95e26",
   "metadata": {},
   "outputs": [],
   "source": [
    "for step in range(xValues.size):\n",
    "    yValues[step] = y_n #safe value of y_n\n",
    "    y_nn = rk4(function,x_n,y_n,h) #prediction of y_(n+1) by RK4\n",
    "    x_n = x_n + h #increment of x in h for next step\n",
    "    y_n = copy.copy(y_nn) #reassingment of y for next step"
   ]
  },
  {
   "cell_type": "markdown",
   "id": "7ca88723",
   "metadata": {},
   "source": [
    "Por último, los datos aproximados obtenidos por RK4 para el rango, se grafica, y de tal forma, se presenta su comportamiento."
   ]
  },
  {
   "cell_type": "code",
   "execution_count": 8,
   "id": "f409fb72",
   "metadata": {
    "scrolled": true
   },
   "outputs": [
    {
     "data": {
      "image/png": "[encoded data removed]",
      "text/plain": [
       "<Figure size 432x288 with 1 Axes>"
      ]
     },
     "metadata": {
      "needs_background": "light"
     },
     "output_type": "display_data"
    }
   ],
   "source": [
    "plt.plot(xValues,yValues);"
   ]
  },
  {
   "cell_type": "markdown",
   "id": "03abeafc",
   "metadata": {},
   "source": [
    "Este es, entonces, el comportamiento de $y$ para $x \\in [0,2]$ con condiciones iniciales $y(0)=1$ predicho con RK4."
   ]
  }
 ],
 "metadata": {
  "kernelspec": {
   "display_name": "Python 3 (ipykernel)",
   "language": "python",
   "name": "python3"
  },
  "language_info": {
   "codemirror_mode": {
    "name": "ipython",
    "version": 3
   },
   "file_extension": ".py",
   "mimetype": "text/x-python",
   "name": "python",
   "nbconvert_exporter": "python",
   "pygments_lexer": "ipython3",
   "version": "3.10.12"
  }
 },
 "nbformat": 4,
 "nbformat_minor": 5
}
