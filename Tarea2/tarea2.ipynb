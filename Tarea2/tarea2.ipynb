{
 "cells": [
  {
   "cell_type": "markdown",
   "id": "262d9775",
   "metadata": {},
   "source": [
    "# Tarea 2: Programación Intermedia\n",
    "## Parte II\n",
    "<p style = 'text-align: right;'> Andrés Chacón Escalante - C32026 </p>\n",
    "<p style = 'text-align: right;'> Marco Barquero Hernández - C30970 </p>"
   ]
  },
  {
   "cell_type": "code",
   "execution_count": 1,
   "id": "c3b43383",
   "metadata": {},
   "outputs": [],
   "source": [
    "import math\n",
    "import numpy as np\n",
    "import copy\n",
    "import matplotlib.pyplot as plt"
   ]
  },
  {
   "cell_type": "markdown",
   "id": "0e719642",
   "metadata": {},
   "source": [
    "Primero de define el método de RK4, de igual forma al visto en clase, este de puede escribir:"
   ]
  },
  {
   "cell_type": "code",
   "execution_count": 2,
   "id": "239decab",
   "metadata": {},
   "outputs": [],
   "source": [
    "def rk4(func, x_n, y_n, h):\n",
    "    k1 = func(x_n,y_n)\n",
    "    k2 = func(x_n + h/2, y_n + h/2*k1)\n",
    "    k3 = func(x_n + h/2, y_n + h/2*k2)\n",
    "    k4 = func(x_n + h, y_n + h*k3)\n",
    "    return y_n + h/6*(k1+2*k2+2*k3+k4)"
   ]
  },
  {
   "cell_type": "markdown",
   "id": "faffeafe",
   "metadata": {},
   "source": [
    "En este caso, la función ecuación con la queremos trabajar es:\n",
    "\\begin{equation}\n",
    "\\frac{dy}{dx}=2(1-y)-e^{-4x}\n",
    "\\end{equation}\n",
    "Por lo que de define la función como toda la sección no diferencial."
   ]
  },
  {
   "cell_type": "code",
   "execution_count": 3,
   "id": "f07563dc",
   "metadata": {},
   "outputs": [],
   "source": [
    "def func(x,y):\n",
    "    function = 2*(1-y)-math.exp(-4*x)\n",
    "    return function"
   ]
  },
  {
   "cell_type": "markdown",
   "id": "abbdae4a",
   "metadata": {},
   "source": [
    "El métodos se quiere usar para valores con $x \\in [0,2]$, y se van a tomar 2001 puntos, con un paso de $h$ entre estos."
   ]
  },
  {
   "cell_type": "code",
   "execution_count": 4,
   "id": "054037bf",
   "metadata": {},
   "outputs": [],
   "source": [
    "times = np.linspace(0.0, 2.0, 2001)\n",
    "h = times[1] - times[0]"
   ]
  },
  {
   "cell_type": "markdown",
   "id": "302738a2",
   "metadata": {},
   "source": [
    "Se prepara un array de ceros en el cual se irán guardando los datos obtenidos con el rk4."
   ]
  },
  {
   "cell_type": "code",
   "execution_count": 5,
   "id": "7339c89c",
   "metadata": {},
   "outputs": [],
   "source": [
    "obs = np.zeros(times.size)"
   ]
  },
  {
   "cell_type": "markdown",
   "id": "60bb2386",
   "metadata": {},
   "source": [
    "Definimos los valores iniciales para $y$ y $x$ como 1 y 0 de condiciones iniciales."
   ]
  },
  {
   "cell_type": "code",
   "execution_count": 6,
   "id": "f040dc68",
   "metadata": {},
   "outputs": [],
   "source": [
    "y_init = 1\n",
    "y_0 = copy.deepcopy(y_init)\n",
    "\n",
    "x_init = 0\n",
    "x_0 = copy.deepcopy(x_init)"
   ]
  },
  {
   "cell_type": "markdown",
   "id": "1b266922",
   "metadata": {},
   "source": [
    "Iteramos a traves de todos los valores que queremos evaluar de $x$ en el métodos rk4, después de cada cálculo se guarda en nuevo valor $y$ y se avance $x$ en los pasos $h$ definidos anteriormente."
   ]
  },
  {
   "cell_type": "code",
   "execution_count": 7,
   "id": "3fe95e26",
   "metadata": {},
   "outputs": [],
   "source": [
    "for tt in range(times.size):\n",
    "    obs[tt] = y_0 #guardado del valor de y\n",
    "    y_n = rk4(func,x_0,y_0,h) #predicción de y_(n+1) por rk4\n",
    "    x_0 = x_0 + h #cambio de x con cada iteración\n",
    "    y_0 = copy.copy(y_n) #guardado del resultado de y para la siguiente iteración"
   ]
  },
  {
   "cell_type": "markdown",
   "id": "7ca88723",
   "metadata": {},
   "source": [
    "Ya con los datos aproximados de la función para el rango definido, podemos graficarlo para observar el comportamiento de mejor manera."
   ]
  },
  {
   "cell_type": "code",
   "execution_count": 9,
   "id": "f409fb72",
   "metadata": {
    "scrolled": true
   },
   "outputs": [
    {
     "data": {
      "image/png": "[encoded data removed]",
      "text/plain": [
       "<Figure size 432x288 with 1 Axes>"
      ]
     },
     "metadata": {
      "needs_background": "light"
     },
     "output_type": "display_data"
    }
   ],
   "source": [
    "plt.plot(times,obs);"
   ]
  },
  {
   "cell_type": "markdown",
   "id": "03abeafc",
   "metadata": {},
   "source": [
    "Así encontramos como se aproxima el resultado de 0 a 2."
   ]
  }
 ],
 "metadata": {
  "kernelspec": {
   "display_name": "Python 3 (ipykernel)",
   "language": "python",
   "name": "python3"
  },
  "language_info": {
   "codemirror_mode": {
    "name": "ipython",
    "version": 3
   },
   "file_extension": ".py",
   "mimetype": "text/x-python",
   "name": "python",
   "nbconvert_exporter": "python",
   "pygments_lexer": "ipython3",
   "version": "3.10.12"
  }
 },
 "nbformat": 4,
 "nbformat_minor": 5
}
